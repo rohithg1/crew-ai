{
 "cells": [
  {
   "metadata": {
    "ExecuteTime": {
     "end_time": "2025-08-04T00:27:06.761110Z",
     "start_time": "2025-08-04T00:27:06.751571Z"
    }
   },
   "cell_type": "code",
   "source": [
    "from dotenv import load_dotenv\n",
    "load_dotenv()"
   ],
   "id": "ba625a6d979d6199",
   "outputs": [
    {
     "data": {
      "text/plain": [
       "True"
      ]
     },
     "execution_count": 3,
     "metadata": {},
     "output_type": "execute_result"
    }
   ],
   "execution_count": 3
  },
  {
   "metadata": {
    "ExecuteTime": {
     "end_time": "2025-08-04T00:27:07.880284Z",
     "start_time": "2025-08-04T00:27:07.876041Z"
    }
   },
   "cell_type": "code",
   "source": [
    "from crewai import LLM\n",
    "llm = LLM(\n",
    "    model=\"gemini/gemini-2.0-flash\",\n",
    "    temperature=0.1\n",
    ")\n"
   ],
   "id": "caa2b8d397fa21a2",
   "outputs": [],
   "execution_count": 4
  },
  {
   "metadata": {
    "ExecuteTime": {
     "end_time": "2025-08-04T00:26:09.147252Z",
     "start_time": "2025-08-04T00:25:52.298104Z"
    }
   },
   "cell_type": "code",
   "source": [
    "from crewai import Agent, Task, Crew\n",
    "from crewai_tools import SerperDevTool"
   ],
   "id": "e0b2ec26cbff5619",
   "outputs": [
    {
     "name": "stderr",
     "output_type": "stream",
     "text": [
      "C:\\Users\\rohit\\OneDrive\\Documents\\Python Scripts\\crew-ai\\.venv\\Lib\\site-packages\\pysbd\\segmenter.py:66: SyntaxWarning: invalid escape sequence '\\s'\n",
      "  for match in re.finditer('{0}\\s*'.format(re.escape(sent)), self.original_text):\n",
      "C:\\Users\\rohit\\OneDrive\\Documents\\Python Scripts\\crew-ai\\.venv\\Lib\\site-packages\\pysbd\\lang\\arabic.py:29: SyntaxWarning: invalid escape sequence '\\.'\n",
      "  txt = re.sub('(?<={0})\\.'.format(am), '∯', txt)\n",
      "C:\\Users\\rohit\\OneDrive\\Documents\\Python Scripts\\crew-ai\\.venv\\Lib\\site-packages\\pysbd\\lang\\persian.py:29: SyntaxWarning: invalid escape sequence '\\.'\n",
      "  txt = re.sub('(?<={0})\\.'.format(am), '∯', txt)\n",
      "C:\\Users\\rohit\\OneDrive\\Documents\\Python Scripts\\crew-ai\\.venv\\Lib\\site-packages\\pydantic\\fields.py:1093: PydanticDeprecatedSince20: Using extra keyword arguments on `Field` is deprecated and will be removed. Use `json_schema_extra` instead. (Extra keys: 'required'). Deprecated in Pydantic V2.0 to be removed in V3.0. See Pydantic V2 Migration Guide at https://errors.pydantic.dev/2.11/migration/\n",
      "  warn(\n"
     ]
    }
   ],
   "execution_count": 1
  },
  {
   "metadata": {
    "ExecuteTime": {
     "end_time": "2025-08-04T00:27:11.296434Z",
     "start_time": "2025-08-04T00:27:11.282576Z"
    }
   },
   "cell_type": "code",
   "source": [
    "research_agent = Agent(\n",
    "    role=\"Research Specialist\",\n",
    "    goal=\"Research interesting facts about the topic: {topic}\",\n",
    "    backstory=\"You are an expert at finding relevant and factual data.\",\n",
    "    tools = [SerperDevTool()],\n",
    "    verbose=True,\n",
    "    llm=llm\n",
    ")\n",
    "\n",
    "writer_agent = Agent(\n",
    "    role=\"Creative Writer\",\n",
    "    goal=\"Write a short blog summary using the research\",\n",
    "    backstory=\"You are skilled at writing engaging summaries based on provided content.\",\n",
    "    llm=llm,\n",
    "    verbose=True,\n",
    ")"
   ],
   "id": "e0499477fbf56362",
   "outputs": [],
   "execution_count": 5
  },
  {
   "metadata": {
    "ExecuteTime": {
     "end_time": "2025-08-04T00:27:14.527120Z",
     "start_time": "2025-08-04T00:27:14.522005Z"
    }
   },
   "cell_type": "code",
   "source": [
    "task1 = Task(\n",
    "    description=\"Find 3-5 interesting and recent facts about {topic}.\",\n",
    "    expected_output=\"A bullet list of 3-5 facts\",\n",
    "    agent=research_agent,\n",
    ")\n",
    "\n",
    "task2 = Task(\n",
    "    description=\"Write a 100-word blog post summary about {topic} using the facts from the research.\",\n",
    "    expected_output=\"A blog post summary\",\n",
    "    agent=writer_agent,\n",
    "    context=[task1],\n",
    ")"
   ],
   "id": "f91e632c81575db0",
   "outputs": [],
   "execution_count": 6
  },
  {
   "metadata": {
    "ExecuteTime": {
     "end_time": "2025-08-04T00:27:30.230033Z",
     "start_time": "2025-08-04T00:27:20.031892Z"
    }
   },
   "cell_type": "code",
   "source": [
    "crew = Crew(\n",
    "    agents=[research_agent, writer_agent],\n",
    "    tasks=[task1, task2],\n",
    "    verbose=True,\n",
    ")\n",
    "\n",
    "crew.kickoff(inputs={\"topic\": \"The future of electrical vehicles\"})"
   ],
   "id": "26dc08ae11c3dc58",
   "outputs": [
    {
     "data": {
      "text/plain": [
       "\u001B[36m╭─\u001B[0m\u001B[36m───────────────────────────────────────────\u001B[0m\u001B[36m Crew Execution Started \u001B[0m\u001B[36m────────────────────────────────────────────\u001B[0m\u001B[36m─╮\u001B[0m\n",
       "\u001B[36m│\u001B[0m                                                                                                                 \u001B[36m│\u001B[0m\n",
       "\u001B[36m│\u001B[0m  \u001B[1;36mCrew Execution Started\u001B[0m                                                                                         \u001B[36m│\u001B[0m\n",
       "\u001B[36m│\u001B[0m  \u001B[37mName: \u001B[0m\u001B[36mcrew\u001B[0m                                                                                                     \u001B[36m│\u001B[0m\n",
       "\u001B[36m│\u001B[0m  \u001B[37mID: \u001B[0m\u001B[36m11290b91-37e7-411f-a511-f6f637dca7ce\u001B[0m                                                                       \u001B[36m│\u001B[0m\n",
       "\u001B[36m│\u001B[0m  \u001B[37mTool Args: \u001B[0m                                                                                                    \u001B[36m│\u001B[0m\n",
       "\u001B[36m│\u001B[0m                                                                                                                 \u001B[36m│\u001B[0m\n",
       "\u001B[36m│\u001B[0m                                                                                                                 \u001B[36m│\u001B[0m\n",
       "\u001B[36m╰─────────────────────────────────────────────────────────────────────────────────────────────────────────────────╯\u001B[0m\n"
      ],
      "text/html": [
       "<pre style=\"white-space:pre;overflow-x:auto;line-height:normal;font-family:Menlo,'DejaVu Sans Mono',consolas,'Courier New',monospace\"><span style=\"color: #008080; text-decoration-color: #008080\">╭──────────────────────────────────────────── Crew Execution Started ─────────────────────────────────────────────╮</span>\n",
       "<span style=\"color: #008080; text-decoration-color: #008080\">│</span>                                                                                                                 <span style=\"color: #008080; text-decoration-color: #008080\">│</span>\n",
       "<span style=\"color: #008080; text-decoration-color: #008080\">│</span>  <span style=\"color: #008080; text-decoration-color: #008080; font-weight: bold\">Crew Execution Started</span>                                                                                         <span style=\"color: #008080; text-decoration-color: #008080\">│</span>\n",
       "<span style=\"color: #008080; text-decoration-color: #008080\">│</span>  <span style=\"color: #c0c0c0; text-decoration-color: #c0c0c0\">Name: </span><span style=\"color: #008080; text-decoration-color: #008080\">crew</span>                                                                                                     <span style=\"color: #008080; text-decoration-color: #008080\">│</span>\n",
       "<span style=\"color: #008080; text-decoration-color: #008080\">│</span>  <span style=\"color: #c0c0c0; text-decoration-color: #c0c0c0\">ID: </span><span style=\"color: #008080; text-decoration-color: #008080\">11290b91-37e7-411f-a511-f6f637dca7ce</span>                                                                       <span style=\"color: #008080; text-decoration-color: #008080\">│</span>\n",
       "<span style=\"color: #008080; text-decoration-color: #008080\">│</span>  <span style=\"color: #c0c0c0; text-decoration-color: #c0c0c0\">Tool Args: </span>                                                                                                    <span style=\"color: #008080; text-decoration-color: #008080\">│</span>\n",
       "<span style=\"color: #008080; text-decoration-color: #008080\">│</span>                                                                                                                 <span style=\"color: #008080; text-decoration-color: #008080\">│</span>\n",
       "<span style=\"color: #008080; text-decoration-color: #008080\">│</span>                                                                                                                 <span style=\"color: #008080; text-decoration-color: #008080\">│</span>\n",
       "<span style=\"color: #008080; text-decoration-color: #008080\">╰─────────────────────────────────────────────────────────────────────────────────────────────────────────────────╯</span>\n",
       "</pre>\n"
      ]
     },
     "metadata": {},
     "output_type": "display_data"
    },
    {
     "data": {
      "text/plain": [
       "\n"
      ],
      "text/html": [
       "<pre style=\"white-space:pre;overflow-x:auto;line-height:normal;font-family:Menlo,'DejaVu Sans Mono',consolas,'Courier New',monospace\">\n",
       "</pre>\n"
      ]
     },
     "metadata": {},
     "output_type": "display_data"
    },
    {
     "data": {
      "text/plain": [],
      "text/html": [
       "<pre style=\"white-space:pre;overflow-x:auto;line-height:normal;font-family:Menlo,'DejaVu Sans Mono',consolas,'Courier New',monospace\"></pre>\n"
      ]
     },
     "metadata": {},
     "output_type": "display_data"
    },
    {
     "data": {
      "text/plain": [
       "\u001B[35m╭─\u001B[0m\u001B[35m──────────────────────────────────────────────\u001B[0m\u001B[35m 🤖 Agent Started \u001B[0m\u001B[35m───────────────────────────────────────────────\u001B[0m\u001B[35m─╮\u001B[0m\n",
       "\u001B[35m│\u001B[0m                                                                                                                 \u001B[35m│\u001B[0m\n",
       "\u001B[35m│\u001B[0m  \u001B[37mAgent: \u001B[0m\u001B[1;92mResearch Specialist\u001B[0m                                                                                     \u001B[35m│\u001B[0m\n",
       "\u001B[35m│\u001B[0m                                                                                                                 \u001B[35m│\u001B[0m\n",
       "\u001B[35m│\u001B[0m  \u001B[37mTask: \u001B[0m\u001B[92mFind 3-5 interesting and recent facts about The future of electrical vehicles.\u001B[0m                           \u001B[35m│\u001B[0m\n",
       "\u001B[35m│\u001B[0m                                                                                                                 \u001B[35m│\u001B[0m\n",
       "\u001B[35m╰─────────────────────────────────────────────────────────────────────────────────────────────────────────────────╯\u001B[0m\n"
      ],
      "text/html": [
       "<pre style=\"white-space:pre;overflow-x:auto;line-height:normal;font-family:Menlo,'DejaVu Sans Mono',consolas,'Courier New',monospace\"><span style=\"color: #800080; text-decoration-color: #800080\">╭─────────────────────────────────────────────── 🤖 Agent Started ────────────────────────────────────────────────╮</span>\n",
       "<span style=\"color: #800080; text-decoration-color: #800080\">│</span>                                                                                                                 <span style=\"color: #800080; text-decoration-color: #800080\">│</span>\n",
       "<span style=\"color: #800080; text-decoration-color: #800080\">│</span>  <span style=\"color: #c0c0c0; text-decoration-color: #c0c0c0\">Agent: </span><span style=\"color: #00ff00; text-decoration-color: #00ff00; font-weight: bold\">Research Specialist</span>                                                                                     <span style=\"color: #800080; text-decoration-color: #800080\">│</span>\n",
       "<span style=\"color: #800080; text-decoration-color: #800080\">│</span>                                                                                                                 <span style=\"color: #800080; text-decoration-color: #800080\">│</span>\n",
       "<span style=\"color: #800080; text-decoration-color: #800080\">│</span>  <span style=\"color: #c0c0c0; text-decoration-color: #c0c0c0\">Task: </span><span style=\"color: #00ff00; text-decoration-color: #00ff00\">Find 3-5 interesting and recent facts about The future of electrical vehicles.</span>                           <span style=\"color: #800080; text-decoration-color: #800080\">│</span>\n",
       "<span style=\"color: #800080; text-decoration-color: #800080\">│</span>                                                                                                                 <span style=\"color: #800080; text-decoration-color: #800080\">│</span>\n",
       "<span style=\"color: #800080; text-decoration-color: #800080\">╰─────────────────────────────────────────────────────────────────────────────────────────────────────────────────╯</span>\n",
       "</pre>\n"
      ]
     },
     "metadata": {},
     "output_type": "display_data"
    },
    {
     "data": {
      "text/plain": [
       "\n"
      ],
      "text/html": [
       "<pre style=\"white-space:pre;overflow-x:auto;line-height:normal;font-family:Menlo,'DejaVu Sans Mono',consolas,'Courier New',monospace\">\n",
       "</pre>\n"
      ]
     },
     "metadata": {},
     "output_type": "display_data"
    },
    {
     "data": {
      "text/plain": [
       "C:\\Users\\rohit\\OneDrive\\Documents\\Python Scripts\\crew-ai\\.venv\\Lib\\site-packages\\rich\\live.py:231: UserWarning: \n",
       "install \"ipywidgets\" for Jupyter support\n",
       "  warnings.warn('install \"ipywidgets\" for Jupyter support')\n"
      ],
      "text/html": [
       "<pre style=\"white-space:pre;overflow-x:auto;line-height:normal;font-family:Menlo,'DejaVu Sans Mono',consolas,'Courier New',monospace\">C:\\Users\\rohit\\OneDrive\\Documents\\Python Scripts\\crew-ai\\.venv\\Lib\\site-packages\\rich\\live.py:231: UserWarning: \n",
       "install \"ipywidgets\" for Jupyter support\n",
       "  warnings.warn('install \"ipywidgets\" for Jupyter support')\n",
       "</pre>\n"
      ]
     },
     "metadata": {},
     "output_type": "display_data"
    },
    {
     "data": {
      "text/plain": [],
      "text/html": [
       "<pre style=\"white-space:pre;overflow-x:auto;line-height:normal;font-family:Menlo,'DejaVu Sans Mono',consolas,'Courier New',monospace\"></pre>\n"
      ]
     },
     "metadata": {},
     "output_type": "display_data"
    },
    {
     "data": {
      "text/plain": [
       "\u001B[35m╭─\u001B[0m\u001B[35m───────────────────────────────────────────\u001B[0m\u001B[35m 🔧 Agent Tool Execution \u001B[0m\u001B[35m───────────────────────────────────────────\u001B[0m\u001B[35m─╮\u001B[0m\n",
       "\u001B[35m│\u001B[0m                                                                                                                 \u001B[35m│\u001B[0m\n",
       "\u001B[35m│\u001B[0m  \u001B[37mAgent: \u001B[0m\u001B[1;92mResearch Specialist\u001B[0m                                                                                     \u001B[35m│\u001B[0m\n",
       "\u001B[35m│\u001B[0m                                                                                                                 \u001B[35m│\u001B[0m\n",
       "\u001B[35m│\u001B[0m  \u001B[37mThought: \u001B[0m\u001B[92mI need to find some interesting and recent facts about the future of electric vehicles. I will use \u001B[0m   \u001B[35m│\u001B[0m\n",
       "\u001B[35m│\u001B[0m  \u001B[92mthe search tool to find relevant articles and data. I will focus on recent developments, predictions, and \u001B[0m     \u001B[35m│\u001B[0m\n",
       "\u001B[35m│\u001B[0m  \u001B[92mtrends in the EV market.\u001B[0m                                                                                       \u001B[35m│\u001B[0m\n",
       "\u001B[35m│\u001B[0m                                                                                                                 \u001B[35m│\u001B[0m\n",
       "\u001B[35m│\u001B[0m  \u001B[37mUsing Tool: \u001B[0m\u001B[1;92mSearch the internet with Serper\u001B[0m                                                                    \u001B[35m│\u001B[0m\n",
       "\u001B[35m│\u001B[0m                                                                                                                 \u001B[35m│\u001B[0m\n",
       "\u001B[35m╰─────────────────────────────────────────────────────────────────────────────────────────────────────────────────╯\u001B[0m\n"
      ],
      "text/html": [
       "<pre style=\"white-space:pre;overflow-x:auto;line-height:normal;font-family:Menlo,'DejaVu Sans Mono',consolas,'Courier New',monospace\"><span style=\"color: #800080; text-decoration-color: #800080\">╭──────────────────────────────────────────── 🔧 Agent Tool Execution ────────────────────────────────────────────╮</span>\n",
       "<span style=\"color: #800080; text-decoration-color: #800080\">│</span>                                                                                                                 <span style=\"color: #800080; text-decoration-color: #800080\">│</span>\n",
       "<span style=\"color: #800080; text-decoration-color: #800080\">│</span>  <span style=\"color: #c0c0c0; text-decoration-color: #c0c0c0\">Agent: </span><span style=\"color: #00ff00; text-decoration-color: #00ff00; font-weight: bold\">Research Specialist</span>                                                                                     <span style=\"color: #800080; text-decoration-color: #800080\">│</span>\n",
       "<span style=\"color: #800080; text-decoration-color: #800080\">│</span>                                                                                                                 <span style=\"color: #800080; text-decoration-color: #800080\">│</span>\n",
       "<span style=\"color: #800080; text-decoration-color: #800080\">│</span>  <span style=\"color: #c0c0c0; text-decoration-color: #c0c0c0\">Thought: </span><span style=\"color: #00ff00; text-decoration-color: #00ff00\">I need to find some interesting and recent facts about the future of electric vehicles. I will use </span>   <span style=\"color: #800080; text-decoration-color: #800080\">│</span>\n",
       "<span style=\"color: #800080; text-decoration-color: #800080\">│</span>  <span style=\"color: #00ff00; text-decoration-color: #00ff00\">the search tool to find relevant articles and data. I will focus on recent developments, predictions, and </span>     <span style=\"color: #800080; text-decoration-color: #800080\">│</span>\n",
       "<span style=\"color: #800080; text-decoration-color: #800080\">│</span>  <span style=\"color: #00ff00; text-decoration-color: #00ff00\">trends in the EV market.</span>                                                                                       <span style=\"color: #800080; text-decoration-color: #800080\">│</span>\n",
       "<span style=\"color: #800080; text-decoration-color: #800080\">│</span>                                                                                                                 <span style=\"color: #800080; text-decoration-color: #800080\">│</span>\n",
       "<span style=\"color: #800080; text-decoration-color: #800080\">│</span>  <span style=\"color: #c0c0c0; text-decoration-color: #c0c0c0\">Using Tool: </span><span style=\"color: #00ff00; text-decoration-color: #00ff00; font-weight: bold\">Search the internet with Serper</span>                                                                    <span style=\"color: #800080; text-decoration-color: #800080\">│</span>\n",
       "<span style=\"color: #800080; text-decoration-color: #800080\">│</span>                                                                                                                 <span style=\"color: #800080; text-decoration-color: #800080\">│</span>\n",
       "<span style=\"color: #800080; text-decoration-color: #800080\">╰─────────────────────────────────────────────────────────────────────────────────────────────────────────────────╯</span>\n",
       "</pre>\n"
      ]
     },
     "metadata": {},
     "output_type": "display_data"
    },
    {
     "data": {
      "text/plain": [
       "\u001B[34m╭─\u001B[0m\u001B[34m─────────────────────────────────────────────────\u001B[0m\u001B[34m Tool Input \u001B[0m\u001B[34m──────────────────────────────────────────────────\u001B[0m\u001B[34m─╮\u001B[0m\n",
       "\u001B[34m│\u001B[0m                                                                                                                 \u001B[34m│\u001B[0m\n",
       "\u001B[34m│\u001B[0m  \u001B[38;2;230;219;116;49m\"{\\\"search_query\\\": \\\"future of electric vehicles trends predictions\\\"}\"\u001B[0m                                       \u001B[34m│\u001B[0m\n",
       "\u001B[34m│\u001B[0m                                                                                                                 \u001B[34m│\u001B[0m\n",
       "\u001B[34m╰─────────────────────────────────────────────────────────────────────────────────────────────────────────────────╯\u001B[0m\n"
      ],
      "text/html": [
       "<pre style=\"white-space:pre;overflow-x:auto;line-height:normal;font-family:Menlo,'DejaVu Sans Mono',consolas,'Courier New',monospace\"><span style=\"color: #000080; text-decoration-color: #000080\">╭────────────────────────────────────────────────── Tool Input ───────────────────────────────────────────────────╮</span>\n",
       "<span style=\"color: #000080; text-decoration-color: #000080\">│</span>                                                                                                                 <span style=\"color: #000080; text-decoration-color: #000080\">│</span>\n",
       "<span style=\"color: #000080; text-decoration-color: #000080\">│</span>  <span style=\"color: #e6db74; text-decoration-color: #e6db74; background-color: #ffffff\">\"{\\\"search_query\\\": \\\"future of electric vehicles trends predictions\\\"}\"</span>                                       <span style=\"color: #000080; text-decoration-color: #000080\">│</span>\n",
       "<span style=\"color: #000080; text-decoration-color: #000080\">│</span>                                                                                                                 <span style=\"color: #000080; text-decoration-color: #000080\">│</span>\n",
       "<span style=\"color: #000080; text-decoration-color: #000080\">╰─────────────────────────────────────────────────────────────────────────────────────────────────────────────────╯</span>\n",
       "</pre>\n"
      ]
     },
     "metadata": {},
     "output_type": "display_data"
    },
    {
     "data": {
      "text/plain": [
       "\u001B[32m╭─\u001B[0m\u001B[32m─────────────────────────────────────────────────\u001B[0m\u001B[32m Tool Output \u001B[0m\u001B[32m─────────────────────────────────────────────────\u001B[0m\u001B[32m─╮\u001B[0m\n",
       "\u001B[32m│\u001B[0m                                                                                                                 \u001B[32m│\u001B[0m\n",
       "\u001B[32m│\u001B[0m  \u001B[92m{'searchParameters': {'q': 'future of electric vehicles trends predictions', 'type': 'search', 'num': 10, \u001B[0m     \u001B[32m│\u001B[0m\n",
       "\u001B[32m│\u001B[0m  \u001B[92m'engine': 'google'}, 'organic': [{'title': 'Global EV Outlook 2025 – Analysis - IEA', 'link': \u001B[0m                 \u001B[32m│\u001B[0m\n",
       "\u001B[32m│\u001B[0m  \u001B[92m'https://www.iea.org/reports/global-ev-outlook-2025', 'snippet': 'The Global EV Outlook is an annual \u001B[0m          \u001B[32m│\u001B[0m\n",
       "\u001B[32m│\u001B[0m  \u001B[92mpublication that reports on recent developments in electric mobility around the world.', 'position': 1}, \u001B[0m      \u001B[32m│\u001B[0m\n",
       "\u001B[32m│\u001B[0m  \u001B[92m{'title': 'The Future of Electric Vehicles: 7 Factors Driving EV Growth', 'link': \u001B[0m                             \u001B[32m│\u001B[0m\n",
       "\u001B[32m│\u001B[0m  \u001B[92m'https://sepapower.org/knowledge/future-of-electric-vehicles/', 'snippet': 'The Edison Electric Institute \u001B[0m     \u001B[32m│\u001B[0m\n",
       "\u001B[32m│\u001B[0m  \u001B[92mprojects that EVs on U.S. roads will grow to 26.4 million by 2030, making up over 10% of vehicles on the \u001B[0m      \u001B[32m│\u001B[0m\n",
       "\u001B[32m│\u001B[0m  \u001B[92mroad.', 'position': 2}, {'title': 'What Is the Future of Electric Cars? - Progressive', 'link': \u001B[0m               \u001B[32m│\u001B[0m\n",
       "\u001B[32m│\u001B[0m  \u001B[92m'https://www.progressive.com/answers/future-of-electric-cars/', 'snippet': 'The future of electric cars \u001B[0m       \u001B[32m│\u001B[0m\n",
       "\u001B[32m│\u001B[0m  \u001B[92mappears bright based on increasing sales, as globally nearly 1 in 5 cars sold in 2023 was electric.', \u001B[0m         \u001B[32m│\u001B[0m\n",
       "\u001B[32m│\u001B[0m  \u001B[92m'position': 3}, {'title': 'Electric Vehicle Outlook | BloombergNEF', 'link': \u001B[0m                                  \u001B[32m│\u001B[0m\n",
       "\u001B[32m│\u001B[0m  \u001B[92m'https://about.bnef.com/insights/clean-transport/electric-vehicle-outlook/', 'snippet': \"The Electric Vehicle\u001B[0m  \u001B[32m│\u001B[0m\n",
       "\u001B[32m│\u001B[0m  \u001B[92mOutlook is BNEF's annual flagship report looking at how electrification and other changes will impact road \u001B[0m    \u001B[32m│\u001B[0m\n",
       "\u001B[32m│\u001B[0m  \u001B[92mtransport in the years ahead.\", 'position': 4}, {'title': 'What is your prediction on the next 5 years EV \u001B[0m     \u001B[32m│\u001B[0m\n",
       "\u001B[32m│\u001B[0m  \u001B[92mdevelopment? - Reddit', 'link': \u001B[0m                                                                               \u001B[32m│\u001B[0m\n",
       "\u001B[32m│\u001B[0m  \u001B[92m'https://www.reddit.com/r/electricvehicles/comments/1b3zrp2/what_is_your_prediction_on_the_next_5_years_ev/',\u001B[0m  \u001B[32m│\u001B[0m\n",
       "\u001B[32m│\u001B[0m  \u001B[92m'snippet': '90% chance: Incremental improvements in range, efficiency, cost, charging infrastructure, \u001B[0m         \u001B[32m│\u001B[0m\n",
       "\u001B[32m│\u001B[0m  \u001B[92mcharging speed and software ecosystem that make ...', 'position': 5}, {'title': 'Trends in electric car \u001B[0m       \u001B[32m│\u001B[0m\n",
       "\u001B[32m│\u001B[0m  \u001B[92mmarkets – Global EV Outlook 2025 – Analysis', 'link': \u001B[0m                                                         \u001B[32m│\u001B[0m\n",
       "\u001B[32m│\u001B[0m  \u001B[92m'https://www.iea.org/reports/global-ev-outlook-2025/trends-in-electric-car-markets-2', 'snippet': 'Electric \u001B[0m   \u001B[32m│\u001B[0m\n",
       "\u001B[32m│\u001B[0m  \u001B[92mcar sales topped 17 million worldwide in 2024, rising by more than 25%.1 Just the addi...\u001B[0m                      \u001B[32m│\u001B[0m\n",
       "\u001B[32m│\u001B[0m                                                                                                                 \u001B[32m│\u001B[0m\n",
       "\u001B[32m╰─────────────────────────────────────────────────────────────────────────────────────────────────────────────────╯\u001B[0m\n"
      ],
      "text/html": [
       "<pre style=\"white-space:pre;overflow-x:auto;line-height:normal;font-family:Menlo,'DejaVu Sans Mono',consolas,'Courier New',monospace\"><span style=\"color: #008000; text-decoration-color: #008000\">╭────────────────────────────────────────────────── Tool Output ──────────────────────────────────────────────────╮</span>\n",
       "<span style=\"color: #008000; text-decoration-color: #008000\">│</span>                                                                                                                 <span style=\"color: #008000; text-decoration-color: #008000\">│</span>\n",
       "<span style=\"color: #008000; text-decoration-color: #008000\">│</span>  <span style=\"color: #00ff00; text-decoration-color: #00ff00\">{'searchParameters': {'q': 'future of electric vehicles trends predictions', 'type': 'search', 'num': 10, </span>     <span style=\"color: #008000; text-decoration-color: #008000\">│</span>\n",
       "<span style=\"color: #008000; text-decoration-color: #008000\">│</span>  <span style=\"color: #00ff00; text-decoration-color: #00ff00\">'engine': 'google'}, 'organic': [{'title': 'Global EV Outlook 2025 – Analysis - IEA', 'link': </span>                 <span style=\"color: #008000; text-decoration-color: #008000\">│</span>\n",
       "<span style=\"color: #008000; text-decoration-color: #008000\">│</span>  <span style=\"color: #00ff00; text-decoration-color: #00ff00\">'https://www.iea.org/reports/global-ev-outlook-2025', 'snippet': 'The Global EV Outlook is an annual </span>          <span style=\"color: #008000; text-decoration-color: #008000\">│</span>\n",
       "<span style=\"color: #008000; text-decoration-color: #008000\">│</span>  <span style=\"color: #00ff00; text-decoration-color: #00ff00\">publication that reports on recent developments in electric mobility around the world.', 'position': 1}, </span>      <span style=\"color: #008000; text-decoration-color: #008000\">│</span>\n",
       "<span style=\"color: #008000; text-decoration-color: #008000\">│</span>  <span style=\"color: #00ff00; text-decoration-color: #00ff00\">{'title': 'The Future of Electric Vehicles: 7 Factors Driving EV Growth', 'link': </span>                             <span style=\"color: #008000; text-decoration-color: #008000\">│</span>\n",
       "<span style=\"color: #008000; text-decoration-color: #008000\">│</span>  <span style=\"color: #00ff00; text-decoration-color: #00ff00\">'https://sepapower.org/knowledge/future-of-electric-vehicles/', 'snippet': 'The Edison Electric Institute </span>     <span style=\"color: #008000; text-decoration-color: #008000\">│</span>\n",
       "<span style=\"color: #008000; text-decoration-color: #008000\">│</span>  <span style=\"color: #00ff00; text-decoration-color: #00ff00\">projects that EVs on U.S. roads will grow to 26.4 million by 2030, making up over 10% of vehicles on the </span>      <span style=\"color: #008000; text-decoration-color: #008000\">│</span>\n",
       "<span style=\"color: #008000; text-decoration-color: #008000\">│</span>  <span style=\"color: #00ff00; text-decoration-color: #00ff00\">road.', 'position': 2}, {'title': 'What Is the Future of Electric Cars? - Progressive', 'link': </span>               <span style=\"color: #008000; text-decoration-color: #008000\">│</span>\n",
       "<span style=\"color: #008000; text-decoration-color: #008000\">│</span>  <span style=\"color: #00ff00; text-decoration-color: #00ff00\">'https://www.progressive.com/answers/future-of-electric-cars/', 'snippet': 'The future of electric cars </span>       <span style=\"color: #008000; text-decoration-color: #008000\">│</span>\n",
       "<span style=\"color: #008000; text-decoration-color: #008000\">│</span>  <span style=\"color: #00ff00; text-decoration-color: #00ff00\">appears bright based on increasing sales, as globally nearly 1 in 5 cars sold in 2023 was electric.', </span>         <span style=\"color: #008000; text-decoration-color: #008000\">│</span>\n",
       "<span style=\"color: #008000; text-decoration-color: #008000\">│</span>  <span style=\"color: #00ff00; text-decoration-color: #00ff00\">'position': 3}, {'title': 'Electric Vehicle Outlook | BloombergNEF', 'link': </span>                                  <span style=\"color: #008000; text-decoration-color: #008000\">│</span>\n",
       "<span style=\"color: #008000; text-decoration-color: #008000\">│</span>  <span style=\"color: #00ff00; text-decoration-color: #00ff00\">'https://about.bnef.com/insights/clean-transport/electric-vehicle-outlook/', 'snippet': \"The Electric Vehicle</span>  <span style=\"color: #008000; text-decoration-color: #008000\">│</span>\n",
       "<span style=\"color: #008000; text-decoration-color: #008000\">│</span>  <span style=\"color: #00ff00; text-decoration-color: #00ff00\">Outlook is BNEF's annual flagship report looking at how electrification and other changes will impact road </span>    <span style=\"color: #008000; text-decoration-color: #008000\">│</span>\n",
       "<span style=\"color: #008000; text-decoration-color: #008000\">│</span>  <span style=\"color: #00ff00; text-decoration-color: #00ff00\">transport in the years ahead.\", 'position': 4}, {'title': 'What is your prediction on the next 5 years EV </span>     <span style=\"color: #008000; text-decoration-color: #008000\">│</span>\n",
       "<span style=\"color: #008000; text-decoration-color: #008000\">│</span>  <span style=\"color: #00ff00; text-decoration-color: #00ff00\">development? - Reddit', 'link': </span>                                                                               <span style=\"color: #008000; text-decoration-color: #008000\">│</span>\n",
       "<span style=\"color: #008000; text-decoration-color: #008000\">│</span>  <span style=\"color: #00ff00; text-decoration-color: #00ff00\">'https://www.reddit.com/r/electricvehicles/comments/1b3zrp2/what_is_your_prediction_on_the_next_5_years_ev/',</span>  <span style=\"color: #008000; text-decoration-color: #008000\">│</span>\n",
       "<span style=\"color: #008000; text-decoration-color: #008000\">│</span>  <span style=\"color: #00ff00; text-decoration-color: #00ff00\">'snippet': '90% chance: Incremental improvements in range, efficiency, cost, charging infrastructure, </span>         <span style=\"color: #008000; text-decoration-color: #008000\">│</span>\n",
       "<span style=\"color: #008000; text-decoration-color: #008000\">│</span>  <span style=\"color: #00ff00; text-decoration-color: #00ff00\">charging speed and software ecosystem that make ...', 'position': 5}, {'title': 'Trends in electric car </span>       <span style=\"color: #008000; text-decoration-color: #008000\">│</span>\n",
       "<span style=\"color: #008000; text-decoration-color: #008000\">│</span>  <span style=\"color: #00ff00; text-decoration-color: #00ff00\">markets – Global EV Outlook 2025 – Analysis', 'link': </span>                                                         <span style=\"color: #008000; text-decoration-color: #008000\">│</span>\n",
       "<span style=\"color: #008000; text-decoration-color: #008000\">│</span>  <span style=\"color: #00ff00; text-decoration-color: #00ff00\">'https://www.iea.org/reports/global-ev-outlook-2025/trends-in-electric-car-markets-2', 'snippet': 'Electric </span>   <span style=\"color: #008000; text-decoration-color: #008000\">│</span>\n",
       "<span style=\"color: #008000; text-decoration-color: #008000\">│</span>  <span style=\"color: #00ff00; text-decoration-color: #00ff00\">car sales topped 17 million worldwide in 2024, rising by more than 25%.1 Just the addi...</span>                      <span style=\"color: #008000; text-decoration-color: #008000\">│</span>\n",
       "<span style=\"color: #008000; text-decoration-color: #008000\">│</span>                                                                                                                 <span style=\"color: #008000; text-decoration-color: #008000\">│</span>\n",
       "<span style=\"color: #008000; text-decoration-color: #008000\">╰─────────────────────────────────────────────────────────────────────────────────────────────────────────────────╯</span>\n",
       "</pre>\n"
      ]
     },
     "metadata": {},
     "output_type": "display_data"
    },
    {
     "data": {
      "text/plain": [
       "\n"
      ],
      "text/html": [
       "<pre style=\"white-space:pre;overflow-x:auto;line-height:normal;font-family:Menlo,'DejaVu Sans Mono',consolas,'Courier New',monospace\">\n",
       "</pre>\n"
      ]
     },
     "metadata": {},
     "output_type": "display_data"
    },
    {
     "data": {
      "text/plain": [
       "C:\\Users\\rohit\\OneDrive\\Documents\\Python Scripts\\crew-ai\\.venv\\Lib\\site-packages\\rich\\live.py:231: UserWarning: \n",
       "install \"ipywidgets\" for Jupyter support\n",
       "  warnings.warn('install \"ipywidgets\" for Jupyter support')\n"
      ],
      "text/html": [
       "<pre style=\"white-space:pre;overflow-x:auto;line-height:normal;font-family:Menlo,'DejaVu Sans Mono',consolas,'Courier New',monospace\">C:\\Users\\rohit\\OneDrive\\Documents\\Python Scripts\\crew-ai\\.venv\\Lib\\site-packages\\rich\\live.py:231: UserWarning: \n",
       "install \"ipywidgets\" for Jupyter support\n",
       "  warnings.warn('install \"ipywidgets\" for Jupyter support')\n",
       "</pre>\n"
      ]
     },
     "metadata": {},
     "output_type": "display_data"
    },
    {
     "data": {
      "text/plain": [],
      "text/html": [
       "<pre style=\"white-space:pre;overflow-x:auto;line-height:normal;font-family:Menlo,'DejaVu Sans Mono',consolas,'Courier New',monospace\"></pre>\n"
      ]
     },
     "metadata": {},
     "output_type": "display_data"
    },
    {
     "data": {
      "text/plain": [
       "\u001B[35m╭─\u001B[0m\u001B[35m───────────────────────────────────────────\u001B[0m\u001B[35m 🔧 Agent Tool Execution \u001B[0m\u001B[35m───────────────────────────────────────────\u001B[0m\u001B[35m─╮\u001B[0m\n",
       "\u001B[35m│\u001B[0m                                                                                                                 \u001B[35m│\u001B[0m\n",
       "\u001B[35m│\u001B[0m  \u001B[37mAgent: \u001B[0m\u001B[1;92mResearch Specialist\u001B[0m                                                                                     \u001B[35m│\u001B[0m\n",
       "\u001B[35m│\u001B[0m                                                                                                                 \u001B[35m│\u001B[0m\n",
       "\u001B[35m│\u001B[0m  \u001B[37mThought: \u001B[0m\u001B[92mThought: I have some good results from the search. I will look for specific facts about EV sales, \u001B[0m    \u001B[35m│\u001B[0m\n",
       "\u001B[35m│\u001B[0m  \u001B[92mprojections, and technology.\u001B[0m                                                                                   \u001B[35m│\u001B[0m\n",
       "\u001B[35m│\u001B[0m                                                                                                                 \u001B[35m│\u001B[0m\n",
       "\u001B[35m│\u001B[0m  \u001B[37mUsing Tool: \u001B[0m\u001B[1;92mSearch the internet with Serper\u001B[0m                                                                    \u001B[35m│\u001B[0m\n",
       "\u001B[35m│\u001B[0m                                                                                                                 \u001B[35m│\u001B[0m\n",
       "\u001B[35m╰─────────────────────────────────────────────────────────────────────────────────────────────────────────────────╯\u001B[0m\n"
      ],
      "text/html": [
       "<pre style=\"white-space:pre;overflow-x:auto;line-height:normal;font-family:Menlo,'DejaVu Sans Mono',consolas,'Courier New',monospace\"><span style=\"color: #800080; text-decoration-color: #800080\">╭──────────────────────────────────────────── 🔧 Agent Tool Execution ────────────────────────────────────────────╮</span>\n",
       "<span style=\"color: #800080; text-decoration-color: #800080\">│</span>                                                                                                                 <span style=\"color: #800080; text-decoration-color: #800080\">│</span>\n",
       "<span style=\"color: #800080; text-decoration-color: #800080\">│</span>  <span style=\"color: #c0c0c0; text-decoration-color: #c0c0c0\">Agent: </span><span style=\"color: #00ff00; text-decoration-color: #00ff00; font-weight: bold\">Research Specialist</span>                                                                                     <span style=\"color: #800080; text-decoration-color: #800080\">│</span>\n",
       "<span style=\"color: #800080; text-decoration-color: #800080\">│</span>                                                                                                                 <span style=\"color: #800080; text-decoration-color: #800080\">│</span>\n",
       "<span style=\"color: #800080; text-decoration-color: #800080\">│</span>  <span style=\"color: #c0c0c0; text-decoration-color: #c0c0c0\">Thought: </span><span style=\"color: #00ff00; text-decoration-color: #00ff00\">Thought: I have some good results from the search. I will look for specific facts about EV sales, </span>    <span style=\"color: #800080; text-decoration-color: #800080\">│</span>\n",
       "<span style=\"color: #800080; text-decoration-color: #800080\">│</span>  <span style=\"color: #00ff00; text-decoration-color: #00ff00\">projections, and technology.</span>                                                                                   <span style=\"color: #800080; text-decoration-color: #800080\">│</span>\n",
       "<span style=\"color: #800080; text-decoration-color: #800080\">│</span>                                                                                                                 <span style=\"color: #800080; text-decoration-color: #800080\">│</span>\n",
       "<span style=\"color: #800080; text-decoration-color: #800080\">│</span>  <span style=\"color: #c0c0c0; text-decoration-color: #c0c0c0\">Using Tool: </span><span style=\"color: #00ff00; text-decoration-color: #00ff00; font-weight: bold\">Search the internet with Serper</span>                                                                    <span style=\"color: #800080; text-decoration-color: #800080\">│</span>\n",
       "<span style=\"color: #800080; text-decoration-color: #800080\">│</span>                                                                                                                 <span style=\"color: #800080; text-decoration-color: #800080\">│</span>\n",
       "<span style=\"color: #800080; text-decoration-color: #800080\">╰─────────────────────────────────────────────────────────────────────────────────────────────────────────────────╯</span>\n",
       "</pre>\n"
      ]
     },
     "metadata": {},
     "output_type": "display_data"
    },
    {
     "data": {
      "text/plain": [
       "\u001B[34m╭─\u001B[0m\u001B[34m─────────────────────────────────────────────────\u001B[0m\u001B[34m Tool Input \u001B[0m\u001B[34m──────────────────────────────────────────────────\u001B[0m\u001B[34m─╮\u001B[0m\n",
       "\u001B[34m│\u001B[0m                                                                                                                 \u001B[34m│\u001B[0m\n",
       "\u001B[34m│\u001B[0m  \u001B[38;2;230;219;116;49m\"{\\\"search_query\\\": \\\"electric vehicle sales statistics 2024 2025\\\"}\"\u001B[0m                                          \u001B[34m│\u001B[0m\n",
       "\u001B[34m│\u001B[0m                                                                                                                 \u001B[34m│\u001B[0m\n",
       "\u001B[34m╰─────────────────────────────────────────────────────────────────────────────────────────────────────────────────╯\u001B[0m\n"
      ],
      "text/html": [
       "<pre style=\"white-space:pre;overflow-x:auto;line-height:normal;font-family:Menlo,'DejaVu Sans Mono',consolas,'Courier New',monospace\"><span style=\"color: #000080; text-decoration-color: #000080\">╭────────────────────────────────────────────────── Tool Input ───────────────────────────────────────────────────╮</span>\n",
       "<span style=\"color: #000080; text-decoration-color: #000080\">│</span>                                                                                                                 <span style=\"color: #000080; text-decoration-color: #000080\">│</span>\n",
       "<span style=\"color: #000080; text-decoration-color: #000080\">│</span>  <span style=\"color: #e6db74; text-decoration-color: #e6db74; background-color: #ffffff\">\"{\\\"search_query\\\": \\\"electric vehicle sales statistics 2024 2025\\\"}\"</span>                                          <span style=\"color: #000080; text-decoration-color: #000080\">│</span>\n",
       "<span style=\"color: #000080; text-decoration-color: #000080\">│</span>                                                                                                                 <span style=\"color: #000080; text-decoration-color: #000080\">│</span>\n",
       "<span style=\"color: #000080; text-decoration-color: #000080\">╰─────────────────────────────────────────────────────────────────────────────────────────────────────────────────╯</span>\n",
       "</pre>\n"
      ]
     },
     "metadata": {},
     "output_type": "display_data"
    },
    {
     "data": {
      "text/plain": [
       "\u001B[32m╭─\u001B[0m\u001B[32m─────────────────────────────────────────────────\u001B[0m\u001B[32m Tool Output \u001B[0m\u001B[32m─────────────────────────────────────────────────\u001B[0m\u001B[32m─╮\u001B[0m\n",
       "\u001B[32m│\u001B[0m                                                                                                                 \u001B[32m│\u001B[0m\n",
       "\u001B[32m│\u001B[0m  \u001B[92m{'searchParameters': {'q': 'electric vehicle sales statistics 2024 2025', 'type': 'search', 'num': 10, \u001B[0m        \u001B[32m│\u001B[0m\n",
       "\u001B[32m│\u001B[0m  \u001B[92m'engine': 'google'}, 'organic': [{'title': 'Trends in electric car markets – Global EV Outlook 2025 – \u001B[0m         \u001B[32m│\u001B[0m\n",
       "\u001B[32m│\u001B[0m  \u001B[92mAnalysis', 'link': 'https://www.iea.org/reports/global-ev-outlook-2025/trends-in-electric-car-markets-2', \u001B[0m     \u001B[32m│\u001B[0m\n",
       "\u001B[32m│\u001B[0m  \u001B[92m'snippet': 'Electric car sales topped 17 million worldwide in 2024 , rising by more than 25%.1 Just the \u001B[0m       \u001B[32m│\u001B[0m\n",
       "\u001B[32m│\u001B[0m  \u001B[92madditional 3.5 million cars sold in 2024 compared to 2023 outnumber total electric car sales in the whole of \u001B[0m  \u001B[32m│\u001B[0m\n",
       "\u001B[32m│\u001B[0m  \u001B[92m2020.', 'position': 1}, {'title': '[PDF] Electric Vehicle Sales Report - Cox Automotive Inc.', 'link': \u001B[0m        \u001B[32m│\u001B[0m\n",
       "\u001B[32m│\u001B[0m  \u001B[92m'https://www.coxautoinc.com/wp-content/uploads/2025/04/Q1-2025-Kelley-Blue-Book-EV-Sales-Report-04-11-25.pdf'\u001B[0m  \u001B[32m│\u001B[0m\n",
       "\u001B[32m│\u001B[0m  \u001B[92m, 'snippet': '2025. 2024. YOY. 2025. 2024. YOY. Q1. YTD. Acura. 4,813. -. -. 4,813. -. -. 1.6%. 1.6%. Audi. \u001B[0m   \u001B[32m│\u001B[0m\n",
       "\u001B[32m│\u001B[0m  \u001B[92m5,905. 5,714. 3.3%. 5,905. 5,714. 3.3%. 2.0%.', 'position': 2}, {'title': 'Global Electric Vehicle Sales Set \u001B[0m  \u001B[32m│\u001B[0m\n",
       "\u001B[32m│\u001B[0m  \u001B[92mfor Record-Breaking Year, Even as ...', 'link': \u001B[0m                                                               \u001B[32m│\u001B[0m\n",
       "\u001B[32m│\u001B[0m  \u001B[92m'https://about.bnef.com/insights/clean-transport/global-electric-vehicle-sales-set-for-record-breaking-year-e\u001B[0m  \u001B[32m│\u001B[0m\n",
       "\u001B[32m│\u001B[0m  \u001B[92mven-as-us-market-slows-sharply-bloombergnef-finds/', 'snippet': \"BloombergNEF's annual Electric Vehicle \u001B[0m       \u001B[32m│\u001B[0m\n",
       "\u001B[32m│\u001B[0m  \u001B[92mOutlook (EVO) expects nearly 22 million battery electric and plug-in hybrid vehicle sales this year, up 25% \u001B[0m   \u001B[32m│\u001B[0m\n",
       "\u001B[32m│\u001B[0m  \u001B[92mfrom 2024.\", 'position': 3}, {'title': 'The Global Electric Vehicle Market In 2025 - Virta', 'link': \u001B[0m          \u001B[32m│\u001B[0m\n",
       "\u001B[32m│\u001B[0m  \u001B[92m'https://www.virta.global/global-electric-vehicle-market', 'snippet': 'The year 2024 brought an increase of 3\u001B[0m  \u001B[32m│\u001B[0m\n",
       "\u001B[32m│\u001B[0m  \u001B[92mmillion EVs, bringing the total to 17 million electric cars sold globally and exceeding 20% of new car ...', \u001B[0m  \u001B[32m│\u001B[0m\n",
       "\u001B[32m│\u001B[0m  \u001B[92m'position': 4}, {'title': 'Q2 EV Sales Dip During Record First Half - Cox Automotive Inc.', 'link': \u001B[0m           \u001B[32m│\u001B[0m\n",
       "\u001B[32m│\u001B[0m  \u001B[92m'https://www.coxautoinc.com/market-insights/q2-2025-ev-sales/', 'snippet': 'Sales in Q2 were higher than in \u001B[0m   \u001B[32m│\u001B[0m\n",
       "\u001B[32m│\u001B[0m  \u001B[92mQ1 by 4.9%, and total EV sales through the first half of 2025 set a record at 607,089, representing a 1.5% \u001B[0m    \u001B[32m│\u001B[0m\n",
       "\u001B[32m│\u001B[0m  \u001B[92myear- ...', 'position': 5}, {'title': 'T...\u001B[0m                                                                    \u001B[32m│\u001B[0m\n",
       "\u001B[32m│\u001B[0m                                                                                                                 \u001B[32m│\u001B[0m\n",
       "\u001B[32m╰─────────────────────────────────────────────────────────────────────────────────────────────────────────────────╯\u001B[0m\n"
      ],
      "text/html": [
       "<pre style=\"white-space:pre;overflow-x:auto;line-height:normal;font-family:Menlo,'DejaVu Sans Mono',consolas,'Courier New',monospace\"><span style=\"color: #008000; text-decoration-color: #008000\">╭────────────────────────────────────────────────── Tool Output ──────────────────────────────────────────────────╮</span>\n",
       "<span style=\"color: #008000; text-decoration-color: #008000\">│</span>                                                                                                                 <span style=\"color: #008000; text-decoration-color: #008000\">│</span>\n",
       "<span style=\"color: #008000; text-decoration-color: #008000\">│</span>  <span style=\"color: #00ff00; text-decoration-color: #00ff00\">{'searchParameters': {'q': 'electric vehicle sales statistics 2024 2025', 'type': 'search', 'num': 10, </span>        <span style=\"color: #008000; text-decoration-color: #008000\">│</span>\n",
       "<span style=\"color: #008000; text-decoration-color: #008000\">│</span>  <span style=\"color: #00ff00; text-decoration-color: #00ff00\">'engine': 'google'}, 'organic': [{'title': 'Trends in electric car markets – Global EV Outlook 2025 – </span>         <span style=\"color: #008000; text-decoration-color: #008000\">│</span>\n",
       "<span style=\"color: #008000; text-decoration-color: #008000\">│</span>  <span style=\"color: #00ff00; text-decoration-color: #00ff00\">Analysis', 'link': 'https://www.iea.org/reports/global-ev-outlook-2025/trends-in-electric-car-markets-2', </span>     <span style=\"color: #008000; text-decoration-color: #008000\">│</span>\n",
       "<span style=\"color: #008000; text-decoration-color: #008000\">│</span>  <span style=\"color: #00ff00; text-decoration-color: #00ff00\">'snippet': 'Electric car sales topped 17 million worldwide in 2024 , rising by more than 25%.1 Just the </span>       <span style=\"color: #008000; text-decoration-color: #008000\">│</span>\n",
       "<span style=\"color: #008000; text-decoration-color: #008000\">│</span>  <span style=\"color: #00ff00; text-decoration-color: #00ff00\">additional 3.5 million cars sold in 2024 compared to 2023 outnumber total electric car sales in the whole of </span>  <span style=\"color: #008000; text-decoration-color: #008000\">│</span>\n",
       "<span style=\"color: #008000; text-decoration-color: #008000\">│</span>  <span style=\"color: #00ff00; text-decoration-color: #00ff00\">2020.', 'position': 1}, {'title': '[PDF] Electric Vehicle Sales Report - Cox Automotive Inc.', 'link': </span>        <span style=\"color: #008000; text-decoration-color: #008000\">│</span>\n",
       "<span style=\"color: #008000; text-decoration-color: #008000\">│</span>  <span style=\"color: #00ff00; text-decoration-color: #00ff00\">'https://www.coxautoinc.com/wp-content/uploads/2025/04/Q1-2025-Kelley-Blue-Book-EV-Sales-Report-04-11-25.pdf'</span>  <span style=\"color: #008000; text-decoration-color: #008000\">│</span>\n",
       "<span style=\"color: #008000; text-decoration-color: #008000\">│</span>  <span style=\"color: #00ff00; text-decoration-color: #00ff00\">, 'snippet': '2025. 2024. YOY. 2025. 2024. YOY. Q1. YTD. Acura. 4,813. -. -. 4,813. -. -. 1.6%. 1.6%. Audi. </span>   <span style=\"color: #008000; text-decoration-color: #008000\">│</span>\n",
       "<span style=\"color: #008000; text-decoration-color: #008000\">│</span>  <span style=\"color: #00ff00; text-decoration-color: #00ff00\">5,905. 5,714. 3.3%. 5,905. 5,714. 3.3%. 2.0%.', 'position': 2}, {'title': 'Global Electric Vehicle Sales Set </span>  <span style=\"color: #008000; text-decoration-color: #008000\">│</span>\n",
       "<span style=\"color: #008000; text-decoration-color: #008000\">│</span>  <span style=\"color: #00ff00; text-decoration-color: #00ff00\">for Record-Breaking Year, Even as ...', 'link': </span>                                                               <span style=\"color: #008000; text-decoration-color: #008000\">│</span>\n",
       "<span style=\"color: #008000; text-decoration-color: #008000\">│</span>  <span style=\"color: #00ff00; text-decoration-color: #00ff00\">'https://about.bnef.com/insights/clean-transport/global-electric-vehicle-sales-set-for-record-breaking-year-e</span>  <span style=\"color: #008000; text-decoration-color: #008000\">│</span>\n",
       "<span style=\"color: #008000; text-decoration-color: #008000\">│</span>  <span style=\"color: #00ff00; text-decoration-color: #00ff00\">ven-as-us-market-slows-sharply-bloombergnef-finds/', 'snippet': \"BloombergNEF's annual Electric Vehicle </span>       <span style=\"color: #008000; text-decoration-color: #008000\">│</span>\n",
       "<span style=\"color: #008000; text-decoration-color: #008000\">│</span>  <span style=\"color: #00ff00; text-decoration-color: #00ff00\">Outlook (EVO) expects nearly 22 million battery electric and plug-in hybrid vehicle sales this year, up 25% </span>   <span style=\"color: #008000; text-decoration-color: #008000\">│</span>\n",
       "<span style=\"color: #008000; text-decoration-color: #008000\">│</span>  <span style=\"color: #00ff00; text-decoration-color: #00ff00\">from 2024.\", 'position': 3}, {'title': 'The Global Electric Vehicle Market In 2025 - Virta', 'link': </span>          <span style=\"color: #008000; text-decoration-color: #008000\">│</span>\n",
       "<span style=\"color: #008000; text-decoration-color: #008000\">│</span>  <span style=\"color: #00ff00; text-decoration-color: #00ff00\">'https://www.virta.global/global-electric-vehicle-market', 'snippet': 'The year 2024 brought an increase of 3</span>  <span style=\"color: #008000; text-decoration-color: #008000\">│</span>\n",
       "<span style=\"color: #008000; text-decoration-color: #008000\">│</span>  <span style=\"color: #00ff00; text-decoration-color: #00ff00\">million EVs, bringing the total to 17 million electric cars sold globally and exceeding 20% of new car ...', </span>  <span style=\"color: #008000; text-decoration-color: #008000\">│</span>\n",
       "<span style=\"color: #008000; text-decoration-color: #008000\">│</span>  <span style=\"color: #00ff00; text-decoration-color: #00ff00\">'position': 4}, {'title': 'Q2 EV Sales Dip During Record First Half - Cox Automotive Inc.', 'link': </span>           <span style=\"color: #008000; text-decoration-color: #008000\">│</span>\n",
       "<span style=\"color: #008000; text-decoration-color: #008000\">│</span>  <span style=\"color: #00ff00; text-decoration-color: #00ff00\">'https://www.coxautoinc.com/market-insights/q2-2025-ev-sales/', 'snippet': 'Sales in Q2 were higher than in </span>   <span style=\"color: #008000; text-decoration-color: #008000\">│</span>\n",
       "<span style=\"color: #008000; text-decoration-color: #008000\">│</span>  <span style=\"color: #00ff00; text-decoration-color: #00ff00\">Q1 by 4.9%, and total EV sales through the first half of 2025 set a record at 607,089, representing a 1.5% </span>    <span style=\"color: #008000; text-decoration-color: #008000\">│</span>\n",
       "<span style=\"color: #008000; text-decoration-color: #008000\">│</span>  <span style=\"color: #00ff00; text-decoration-color: #00ff00\">year- ...', 'position': 5}, {'title': 'T...</span>                                                                    <span style=\"color: #008000; text-decoration-color: #008000\">│</span>\n",
       "<span style=\"color: #008000; text-decoration-color: #008000\">│</span>                                                                                                                 <span style=\"color: #008000; text-decoration-color: #008000\">│</span>\n",
       "<span style=\"color: #008000; text-decoration-color: #008000\">╰─────────────────────────────────────────────────────────────────────────────────────────────────────────────────╯</span>\n",
       "</pre>\n"
      ]
     },
     "metadata": {},
     "output_type": "display_data"
    },
    {
     "data": {
      "text/plain": [
       "\n"
      ],
      "text/html": [
       "<pre style=\"white-space:pre;overflow-x:auto;line-height:normal;font-family:Menlo,'DejaVu Sans Mono',consolas,'Courier New',monospace\">\n",
       "</pre>\n"
      ]
     },
     "metadata": {},
     "output_type": "display_data"
    },
    {
     "data": {
      "text/plain": [],
      "text/html": [
       "<pre style=\"white-space:pre;overflow-x:auto;line-height:normal;font-family:Menlo,'DejaVu Sans Mono',consolas,'Courier New',monospace\"></pre>\n"
      ]
     },
     "metadata": {},
     "output_type": "display_data"
    },
    {
     "data": {
      "text/plain": [
       "\u001B[32m╭─\u001B[0m\u001B[32m────────────────────────────────────────────\u001B[0m\u001B[32m ✅ Agent Final Answer \u001B[0m\u001B[32m────────────────────────────────────────────\u001B[0m\u001B[32m─╮\u001B[0m\n",
       "\u001B[32m│\u001B[0m                                                                                                                 \u001B[32m│\u001B[0m\n",
       "\u001B[32m│\u001B[0m  \u001B[37mAgent: \u001B[0m\u001B[1;92mResearch Specialist\u001B[0m                                                                                     \u001B[32m│\u001B[0m\n",
       "\u001B[32m│\u001B[0m                                                                                                                 \u001B[32m│\u001B[0m\n",
       "\u001B[32m│\u001B[0m  \u001B[37mFinal Answer:\u001B[0m                                                                                                  \u001B[32m│\u001B[0m\n",
       "\u001B[32m│\u001B[0m  \u001B[92m*   Electric car sales topped 17 million worldwide in 2024, rising by more than 25% compared to 2023. The \u001B[0m     \u001B[32m│\u001B[0m\n",
       "\u001B[32m│\u001B[0m  \u001B[92madditional 3.5 million cars sold in 2024 compared to 2023 outnumber total electric car sales in the whole of \u001B[0m  \u001B[32m│\u001B[0m\n",
       "\u001B[32m│\u001B[0m  \u001B[92m2020.\u001B[0m                                                                                                          \u001B[32m│\u001B[0m\n",
       "\u001B[32m│\u001B[0m  \u001B[92m*   BloombergNEF expects nearly 22 million battery electric and plug-in hybrid vehicle sales in 2025, up 25% \u001B[0m  \u001B[32m│\u001B[0m\n",
       "\u001B[32m│\u001B[0m  \u001B[92mfrom 2024.\u001B[0m                                                                                                     \u001B[32m│\u001B[0m\n",
       "\u001B[32m│\u001B[0m  \u001B[92m*   EVs represented 9.6 percent of new light-duty vehicle sales in the U.S. in Q1 2025, down from 10.9 \u001B[0m        \u001B[32m│\u001B[0m\n",
       "\u001B[32m│\u001B[0m  \u001B[92mpercent in Q4 2024.\u001B[0m                                                                                            \u001B[32m│\u001B[0m\n",
       "\u001B[32m│\u001B[0m  \u001B[92m*   Total EV sales through the first half of 2025 set a record at 607,089, representing a 1.5% year-over-year\u001B[0m  \u001B[32m│\u001B[0m\n",
       "\u001B[32m│\u001B[0m  \u001B[92mincrease.\u001B[0m                                                                                                      \u001B[32m│\u001B[0m\n",
       "\u001B[32m│\u001B[0m  \u001B[92m*   Electric vehicles accounted for 23% of total luxury sales in the first quarter of 2025.\u001B[0m                    \u001B[32m│\u001B[0m\n",
       "\u001B[32m│\u001B[0m                                                                                                                 \u001B[32m│\u001B[0m\n",
       "\u001B[32m╰─────────────────────────────────────────────────────────────────────────────────────────────────────────────────╯\u001B[0m\n"
      ],
      "text/html": [
       "<pre style=\"white-space:pre;overflow-x:auto;line-height:normal;font-family:Menlo,'DejaVu Sans Mono',consolas,'Courier New',monospace\"><span style=\"color: #008000; text-decoration-color: #008000\">╭───────────────────────────────────────────── ✅ Agent Final Answer ─────────────────────────────────────────────╮</span>\n",
       "<span style=\"color: #008000; text-decoration-color: #008000\">│</span>                                                                                                                 <span style=\"color: #008000; text-decoration-color: #008000\">│</span>\n",
       "<span style=\"color: #008000; text-decoration-color: #008000\">│</span>  <span style=\"color: #c0c0c0; text-decoration-color: #c0c0c0\">Agent: </span><span style=\"color: #00ff00; text-decoration-color: #00ff00; font-weight: bold\">Research Specialist</span>                                                                                     <span style=\"color: #008000; text-decoration-color: #008000\">│</span>\n",
       "<span style=\"color: #008000; text-decoration-color: #008000\">│</span>                                                                                                                 <span style=\"color: #008000; text-decoration-color: #008000\">│</span>\n",
       "<span style=\"color: #008000; text-decoration-color: #008000\">│</span>  <span style=\"color: #c0c0c0; text-decoration-color: #c0c0c0\">Final Answer:</span>                                                                                                  <span style=\"color: #008000; text-decoration-color: #008000\">│</span>\n",
       "<span style=\"color: #008000; text-decoration-color: #008000\">│</span>  <span style=\"color: #00ff00; text-decoration-color: #00ff00\">*   Electric car sales topped 17 million worldwide in 2024, rising by more than 25% compared to 2023. The </span>     <span style=\"color: #008000; text-decoration-color: #008000\">│</span>\n",
       "<span style=\"color: #008000; text-decoration-color: #008000\">│</span>  <span style=\"color: #00ff00; text-decoration-color: #00ff00\">additional 3.5 million cars sold in 2024 compared to 2023 outnumber total electric car sales in the whole of </span>  <span style=\"color: #008000; text-decoration-color: #008000\">│</span>\n",
       "<span style=\"color: #008000; text-decoration-color: #008000\">│</span>  <span style=\"color: #00ff00; text-decoration-color: #00ff00\">2020.</span>                                                                                                          <span style=\"color: #008000; text-decoration-color: #008000\">│</span>\n",
       "<span style=\"color: #008000; text-decoration-color: #008000\">│</span>  <span style=\"color: #00ff00; text-decoration-color: #00ff00\">*   BloombergNEF expects nearly 22 million battery electric and plug-in hybrid vehicle sales in 2025, up 25% </span>  <span style=\"color: #008000; text-decoration-color: #008000\">│</span>\n",
       "<span style=\"color: #008000; text-decoration-color: #008000\">│</span>  <span style=\"color: #00ff00; text-decoration-color: #00ff00\">from 2024.</span>                                                                                                     <span style=\"color: #008000; text-decoration-color: #008000\">│</span>\n",
       "<span style=\"color: #008000; text-decoration-color: #008000\">│</span>  <span style=\"color: #00ff00; text-decoration-color: #00ff00\">*   EVs represented 9.6 percent of new light-duty vehicle sales in the U.S. in Q1 2025, down from 10.9 </span>        <span style=\"color: #008000; text-decoration-color: #008000\">│</span>\n",
       "<span style=\"color: #008000; text-decoration-color: #008000\">│</span>  <span style=\"color: #00ff00; text-decoration-color: #00ff00\">percent in Q4 2024.</span>                                                                                            <span style=\"color: #008000; text-decoration-color: #008000\">│</span>\n",
       "<span style=\"color: #008000; text-decoration-color: #008000\">│</span>  <span style=\"color: #00ff00; text-decoration-color: #00ff00\">*   Total EV sales through the first half of 2025 set a record at 607,089, representing a 1.5% year-over-year</span>  <span style=\"color: #008000; text-decoration-color: #008000\">│</span>\n",
       "<span style=\"color: #008000; text-decoration-color: #008000\">│</span>  <span style=\"color: #00ff00; text-decoration-color: #00ff00\">increase.</span>                                                                                                      <span style=\"color: #008000; text-decoration-color: #008000\">│</span>\n",
       "<span style=\"color: #008000; text-decoration-color: #008000\">│</span>  <span style=\"color: #00ff00; text-decoration-color: #00ff00\">*   Electric vehicles accounted for 23% of total luxury sales in the first quarter of 2025.</span>                    <span style=\"color: #008000; text-decoration-color: #008000\">│</span>\n",
       "<span style=\"color: #008000; text-decoration-color: #008000\">│</span>                                                                                                                 <span style=\"color: #008000; text-decoration-color: #008000\">│</span>\n",
       "<span style=\"color: #008000; text-decoration-color: #008000\">╰─────────────────────────────────────────────────────────────────────────────────────────────────────────────────╯</span>\n",
       "</pre>\n"
      ]
     },
     "metadata": {},
     "output_type": "display_data"
    },
    {
     "data": {
      "text/plain": [
       "\n"
      ],
      "text/html": [
       "<pre style=\"white-space:pre;overflow-x:auto;line-height:normal;font-family:Menlo,'DejaVu Sans Mono',consolas,'Courier New',monospace\">\n",
       "</pre>\n"
      ]
     },
     "metadata": {},
     "output_type": "display_data"
    },
    {
     "data": {
      "text/plain": [],
      "text/html": [
       "<pre style=\"white-space:pre;overflow-x:auto;line-height:normal;font-family:Menlo,'DejaVu Sans Mono',consolas,'Courier New',monospace\"></pre>\n"
      ]
     },
     "metadata": {},
     "output_type": "display_data"
    },
    {
     "data": {
      "text/plain": [
       "\u001B[32m╭─\u001B[0m\u001B[32m───────────────────────────────────────────────\u001B[0m\u001B[32m Task Completion \u001B[0m\u001B[32m───────────────────────────────────────────────\u001B[0m\u001B[32m─╮\u001B[0m\n",
       "\u001B[32m│\u001B[0m                                                                                                                 \u001B[32m│\u001B[0m\n",
       "\u001B[32m│\u001B[0m  \u001B[1;32mTask Completed\u001B[0m                                                                                                 \u001B[32m│\u001B[0m\n",
       "\u001B[32m│\u001B[0m  \u001B[37mName: \u001B[0m\u001B[32m43c96505-2c21-4982-a1c1-4ca264fbdec4\u001B[0m                                                                     \u001B[32m│\u001B[0m\n",
       "\u001B[32m│\u001B[0m  \u001B[37mAgent: \u001B[0m\u001B[32mResearch Specialist\u001B[0m                                                                                     \u001B[32m│\u001B[0m\n",
       "\u001B[32m│\u001B[0m  \u001B[37mTool Args: \u001B[0m                                                                                                    \u001B[32m│\u001B[0m\n",
       "\u001B[32m│\u001B[0m                                                                                                                 \u001B[32m│\u001B[0m\n",
       "\u001B[32m│\u001B[0m                                                                                                                 \u001B[32m│\u001B[0m\n",
       "\u001B[32m╰─────────────────────────────────────────────────────────────────────────────────────────────────────────────────╯\u001B[0m\n"
      ],
      "text/html": [
       "<pre style=\"white-space:pre;overflow-x:auto;line-height:normal;font-family:Menlo,'DejaVu Sans Mono',consolas,'Courier New',monospace\"><span style=\"color: #008000; text-decoration-color: #008000\">╭──────────────────────────────────────────────── Task Completion ────────────────────────────────────────────────╮</span>\n",
       "<span style=\"color: #008000; text-decoration-color: #008000\">│</span>                                                                                                                 <span style=\"color: #008000; text-decoration-color: #008000\">│</span>\n",
       "<span style=\"color: #008000; text-decoration-color: #008000\">│</span>  <span style=\"color: #008000; text-decoration-color: #008000; font-weight: bold\">Task Completed</span>                                                                                                 <span style=\"color: #008000; text-decoration-color: #008000\">│</span>\n",
       "<span style=\"color: #008000; text-decoration-color: #008000\">│</span>  <span style=\"color: #c0c0c0; text-decoration-color: #c0c0c0\">Name: </span><span style=\"color: #008000; text-decoration-color: #008000\">43c96505-2c21-4982-a1c1-4ca264fbdec4</span>                                                                     <span style=\"color: #008000; text-decoration-color: #008000\">│</span>\n",
       "<span style=\"color: #008000; text-decoration-color: #008000\">│</span>  <span style=\"color: #c0c0c0; text-decoration-color: #c0c0c0\">Agent: </span><span style=\"color: #008000; text-decoration-color: #008000\">Research Specialist</span>                                                                                     <span style=\"color: #008000; text-decoration-color: #008000\">│</span>\n",
       "<span style=\"color: #008000; text-decoration-color: #008000\">│</span>  <span style=\"color: #c0c0c0; text-decoration-color: #c0c0c0\">Tool Args: </span>                                                                                                    <span style=\"color: #008000; text-decoration-color: #008000\">│</span>\n",
       "<span style=\"color: #008000; text-decoration-color: #008000\">│</span>                                                                                                                 <span style=\"color: #008000; text-decoration-color: #008000\">│</span>\n",
       "<span style=\"color: #008000; text-decoration-color: #008000\">│</span>                                                                                                                 <span style=\"color: #008000; text-decoration-color: #008000\">│</span>\n",
       "<span style=\"color: #008000; text-decoration-color: #008000\">╰─────────────────────────────────────────────────────────────────────────────────────────────────────────────────╯</span>\n",
       "</pre>\n"
      ]
     },
     "metadata": {},
     "output_type": "display_data"
    },
    {
     "data": {
      "text/plain": [
       "\n"
      ],
      "text/html": [
       "<pre style=\"white-space:pre;overflow-x:auto;line-height:normal;font-family:Menlo,'DejaVu Sans Mono',consolas,'Courier New',monospace\">\n",
       "</pre>\n"
      ]
     },
     "metadata": {},
     "output_type": "display_data"
    },
    {
     "data": {
      "text/plain": [],
      "text/html": [
       "<pre style=\"white-space:pre;overflow-x:auto;line-height:normal;font-family:Menlo,'DejaVu Sans Mono',consolas,'Courier New',monospace\"></pre>\n"
      ]
     },
     "metadata": {},
     "output_type": "display_data"
    },
    {
     "data": {
      "text/plain": [
       "\u001B[35m╭─\u001B[0m\u001B[35m──────────────────────────────────────────────\u001B[0m\u001B[35m 🤖 Agent Started \u001B[0m\u001B[35m───────────────────────────────────────────────\u001B[0m\u001B[35m─╮\u001B[0m\n",
       "\u001B[35m│\u001B[0m                                                                                                                 \u001B[35m│\u001B[0m\n",
       "\u001B[35m│\u001B[0m  \u001B[37mAgent: \u001B[0m\u001B[1;92mCreative Writer\u001B[0m                                                                                         \u001B[35m│\u001B[0m\n",
       "\u001B[35m│\u001B[0m                                                                                                                 \u001B[35m│\u001B[0m\n",
       "\u001B[35m│\u001B[0m  \u001B[37mTask: \u001B[0m\u001B[92mWrite a 100-word blog post summary about The future of electrical vehicles using the facts from the \u001B[0m     \u001B[35m│\u001B[0m\n",
       "\u001B[35m│\u001B[0m  \u001B[92mresearch.\u001B[0m                                                                                                      \u001B[35m│\u001B[0m\n",
       "\u001B[35m│\u001B[0m                                                                                                                 \u001B[35m│\u001B[0m\n",
       "\u001B[35m╰─────────────────────────────────────────────────────────────────────────────────────────────────────────────────╯\u001B[0m\n"
      ],
      "text/html": [
       "<pre style=\"white-space:pre;overflow-x:auto;line-height:normal;font-family:Menlo,'DejaVu Sans Mono',consolas,'Courier New',monospace\"><span style=\"color: #800080; text-decoration-color: #800080\">╭─────────────────────────────────────────────── 🤖 Agent Started ────────────────────────────────────────────────╮</span>\n",
       "<span style=\"color: #800080; text-decoration-color: #800080\">│</span>                                                                                                                 <span style=\"color: #800080; text-decoration-color: #800080\">│</span>\n",
       "<span style=\"color: #800080; text-decoration-color: #800080\">│</span>  <span style=\"color: #c0c0c0; text-decoration-color: #c0c0c0\">Agent: </span><span style=\"color: #00ff00; text-decoration-color: #00ff00; font-weight: bold\">Creative Writer</span>                                                                                         <span style=\"color: #800080; text-decoration-color: #800080\">│</span>\n",
       "<span style=\"color: #800080; text-decoration-color: #800080\">│</span>                                                                                                                 <span style=\"color: #800080; text-decoration-color: #800080\">│</span>\n",
       "<span style=\"color: #800080; text-decoration-color: #800080\">│</span>  <span style=\"color: #c0c0c0; text-decoration-color: #c0c0c0\">Task: </span><span style=\"color: #00ff00; text-decoration-color: #00ff00\">Write a 100-word blog post summary about The future of electrical vehicles using the facts from the </span>     <span style=\"color: #800080; text-decoration-color: #800080\">│</span>\n",
       "<span style=\"color: #800080; text-decoration-color: #800080\">│</span>  <span style=\"color: #00ff00; text-decoration-color: #00ff00\">research.</span>                                                                                                      <span style=\"color: #800080; text-decoration-color: #800080\">│</span>\n",
       "<span style=\"color: #800080; text-decoration-color: #800080\">│</span>                                                                                                                 <span style=\"color: #800080; text-decoration-color: #800080\">│</span>\n",
       "<span style=\"color: #800080; text-decoration-color: #800080\">╰─────────────────────────────────────────────────────────────────────────────────────────────────────────────────╯</span>\n",
       "</pre>\n"
      ]
     },
     "metadata": {},
     "output_type": "display_data"
    },
    {
     "data": {
      "text/plain": [
       "\n"
      ],
      "text/html": [
       "<pre style=\"white-space:pre;overflow-x:auto;line-height:normal;font-family:Menlo,'DejaVu Sans Mono',consolas,'Courier New',monospace\">\n",
       "</pre>\n"
      ]
     },
     "metadata": {},
     "output_type": "display_data"
    },
    {
     "data": {
      "text/plain": [],
      "text/html": [
       "<pre style=\"white-space:pre;overflow-x:auto;line-height:normal;font-family:Menlo,'DejaVu Sans Mono',consolas,'Courier New',monospace\"></pre>\n"
      ]
     },
     "metadata": {},
     "output_type": "display_data"
    },
    {
     "data": {
      "text/plain": [
       "\u001B[32m╭─\u001B[0m\u001B[32m────────────────────────────────────────────\u001B[0m\u001B[32m ✅ Agent Final Answer \u001B[0m\u001B[32m────────────────────────────────────────────\u001B[0m\u001B[32m─╮\u001B[0m\n",
       "\u001B[32m│\u001B[0m                                                                                                                 \u001B[32m│\u001B[0m\n",
       "\u001B[32m│\u001B[0m  \u001B[37mAgent: \u001B[0m\u001B[1;92mCreative Writer\u001B[0m                                                                                         \u001B[32m│\u001B[0m\n",
       "\u001B[32m│\u001B[0m                                                                                                                 \u001B[32m│\u001B[0m\n",
       "\u001B[32m│\u001B[0m  \u001B[37mFinal Answer:\u001B[0m                                                                                                  \u001B[32m│\u001B[0m\n",
       "\u001B[32m│\u001B[0m  \u001B[92m**The Road Ahead: Electric Vehicle Sales Surge Globally, Face Headwinds in the U.S.**\u001B[0m                          \u001B[32m│\u001B[0m\n",
       "\u001B[32m│\u001B[0m                                                                                                                 \u001B[32m│\u001B[0m\n",
       "\u001B[32m│\u001B[0m  \u001B[92mGlobal electric car sales hit a record of 17 million in 2024, a 25% increase from 2023, exceeding total sales\u001B[0m  \u001B[32m│\u001B[0m\n",
       "\u001B[32m│\u001B[0m  \u001B[92min 2020 by 3.5 million vehicles. BloombergNEF projects nearly 22 million EV sales in 2025, a further 25% \u001B[0m      \u001B[32m│\u001B[0m\n",
       "\u001B[32m│\u001B[0m  \u001B[92mjump. However, in the U.S., while total EV sales in the first half of 2025 reached a record 607,089 (up 1.5% \u001B[0m  \u001B[32m│\u001B[0m\n",
       "\u001B[32m│\u001B[0m  \u001B[92myear-over-year), market share dipped to 9.6% in Q1 2025 from 10.9% in Q4 2024. Electric vehicles continue to \u001B[0m  \u001B[32m│\u001B[0m\n",
       "\u001B[32m│\u001B[0m  \u001B[92mdominate the luxury market, accounting for 23% of sales in Q1 2025, signaling continued strong interest in \u001B[0m    \u001B[32m│\u001B[0m\n",
       "\u001B[32m│\u001B[0m  \u001B[92mhigh-end EV models.\u001B[0m                                                                                            \u001B[32m│\u001B[0m\n",
       "\u001B[32m│\u001B[0m                                                                                                                 \u001B[32m│\u001B[0m\n",
       "\u001B[32m╰─────────────────────────────────────────────────────────────────────────────────────────────────────────────────╯\u001B[0m\n"
      ],
      "text/html": [
       "<pre style=\"white-space:pre;overflow-x:auto;line-height:normal;font-family:Menlo,'DejaVu Sans Mono',consolas,'Courier New',monospace\"><span style=\"color: #008000; text-decoration-color: #008000\">╭───────────────────────────────────────────── ✅ Agent Final Answer ─────────────────────────────────────────────╮</span>\n",
       "<span style=\"color: #008000; text-decoration-color: #008000\">│</span>                                                                                                                 <span style=\"color: #008000; text-decoration-color: #008000\">│</span>\n",
       "<span style=\"color: #008000; text-decoration-color: #008000\">│</span>  <span style=\"color: #c0c0c0; text-decoration-color: #c0c0c0\">Agent: </span><span style=\"color: #00ff00; text-decoration-color: #00ff00; font-weight: bold\">Creative Writer</span>                                                                                         <span style=\"color: #008000; text-decoration-color: #008000\">│</span>\n",
       "<span style=\"color: #008000; text-decoration-color: #008000\">│</span>                                                                                                                 <span style=\"color: #008000; text-decoration-color: #008000\">│</span>\n",
       "<span style=\"color: #008000; text-decoration-color: #008000\">│</span>  <span style=\"color: #c0c0c0; text-decoration-color: #c0c0c0\">Final Answer:</span>                                                                                                  <span style=\"color: #008000; text-decoration-color: #008000\">│</span>\n",
       "<span style=\"color: #008000; text-decoration-color: #008000\">│</span>  <span style=\"color: #00ff00; text-decoration-color: #00ff00\">**The Road Ahead: Electric Vehicle Sales Surge Globally, Face Headwinds in the U.S.**</span>                          <span style=\"color: #008000; text-decoration-color: #008000\">│</span>\n",
       "<span style=\"color: #008000; text-decoration-color: #008000\">│</span>                                                                                                                 <span style=\"color: #008000; text-decoration-color: #008000\">│</span>\n",
       "<span style=\"color: #008000; text-decoration-color: #008000\">│</span>  <span style=\"color: #00ff00; text-decoration-color: #00ff00\">Global electric car sales hit a record of 17 million in 2024, a 25% increase from 2023, exceeding total sales</span>  <span style=\"color: #008000; text-decoration-color: #008000\">│</span>\n",
       "<span style=\"color: #008000; text-decoration-color: #008000\">│</span>  <span style=\"color: #00ff00; text-decoration-color: #00ff00\">in 2020 by 3.5 million vehicles. BloombergNEF projects nearly 22 million EV sales in 2025, a further 25% </span>      <span style=\"color: #008000; text-decoration-color: #008000\">│</span>\n",
       "<span style=\"color: #008000; text-decoration-color: #008000\">│</span>  <span style=\"color: #00ff00; text-decoration-color: #00ff00\">jump. However, in the U.S., while total EV sales in the first half of 2025 reached a record 607,089 (up 1.5% </span>  <span style=\"color: #008000; text-decoration-color: #008000\">│</span>\n",
       "<span style=\"color: #008000; text-decoration-color: #008000\">│</span>  <span style=\"color: #00ff00; text-decoration-color: #00ff00\">year-over-year), market share dipped to 9.6% in Q1 2025 from 10.9% in Q4 2024. Electric vehicles continue to </span>  <span style=\"color: #008000; text-decoration-color: #008000\">│</span>\n",
       "<span style=\"color: #008000; text-decoration-color: #008000\">│</span>  <span style=\"color: #00ff00; text-decoration-color: #00ff00\">dominate the luxury market, accounting for 23% of sales in Q1 2025, signaling continued strong interest in </span>    <span style=\"color: #008000; text-decoration-color: #008000\">│</span>\n",
       "<span style=\"color: #008000; text-decoration-color: #008000\">│</span>  <span style=\"color: #00ff00; text-decoration-color: #00ff00\">high-end EV models.</span>                                                                                            <span style=\"color: #008000; text-decoration-color: #008000\">│</span>\n",
       "<span style=\"color: #008000; text-decoration-color: #008000\">│</span>                                                                                                                 <span style=\"color: #008000; text-decoration-color: #008000\">│</span>\n",
       "<span style=\"color: #008000; text-decoration-color: #008000\">╰─────────────────────────────────────────────────────────────────────────────────────────────────────────────────╯</span>\n",
       "</pre>\n"
      ]
     },
     "metadata": {},
     "output_type": "display_data"
    },
    {
     "data": {
      "text/plain": [
       "\n"
      ],
      "text/html": [
       "<pre style=\"white-space:pre;overflow-x:auto;line-height:normal;font-family:Menlo,'DejaVu Sans Mono',consolas,'Courier New',monospace\">\n",
       "</pre>\n"
      ]
     },
     "metadata": {},
     "output_type": "display_data"
    },
    {
     "data": {
      "text/plain": [],
      "text/html": [
       "<pre style=\"white-space:pre;overflow-x:auto;line-height:normal;font-family:Menlo,'DejaVu Sans Mono',consolas,'Courier New',monospace\"></pre>\n"
      ]
     },
     "metadata": {},
     "output_type": "display_data"
    },
    {
     "data": {
      "text/plain": [
       "\u001B[32m╭─\u001B[0m\u001B[32m───────────────────────────────────────────────\u001B[0m\u001B[32m Task Completion \u001B[0m\u001B[32m───────────────────────────────────────────────\u001B[0m\u001B[32m─╮\u001B[0m\n",
       "\u001B[32m│\u001B[0m                                                                                                                 \u001B[32m│\u001B[0m\n",
       "\u001B[32m│\u001B[0m  \u001B[1;32mTask Completed\u001B[0m                                                                                                 \u001B[32m│\u001B[0m\n",
       "\u001B[32m│\u001B[0m  \u001B[37mName: \u001B[0m\u001B[32m7ec4a1a9-d362-401a-b818-9499407b558f\u001B[0m                                                                     \u001B[32m│\u001B[0m\n",
       "\u001B[32m│\u001B[0m  \u001B[37mAgent: \u001B[0m\u001B[32mCreative Writer\u001B[0m                                                                                         \u001B[32m│\u001B[0m\n",
       "\u001B[32m│\u001B[0m  \u001B[37mTool Args: \u001B[0m                                                                                                    \u001B[32m│\u001B[0m\n",
       "\u001B[32m│\u001B[0m                                                                                                                 \u001B[32m│\u001B[0m\n",
       "\u001B[32m│\u001B[0m                                                                                                                 \u001B[32m│\u001B[0m\n",
       "\u001B[32m╰─────────────────────────────────────────────────────────────────────────────────────────────────────────────────╯\u001B[0m\n"
      ],
      "text/html": [
       "<pre style=\"white-space:pre;overflow-x:auto;line-height:normal;font-family:Menlo,'DejaVu Sans Mono',consolas,'Courier New',monospace\"><span style=\"color: #008000; text-decoration-color: #008000\">╭──────────────────────────────────────────────── Task Completion ────────────────────────────────────────────────╮</span>\n",
       "<span style=\"color: #008000; text-decoration-color: #008000\">│</span>                                                                                                                 <span style=\"color: #008000; text-decoration-color: #008000\">│</span>\n",
       "<span style=\"color: #008000; text-decoration-color: #008000\">│</span>  <span style=\"color: #008000; text-decoration-color: #008000; font-weight: bold\">Task Completed</span>                                                                                                 <span style=\"color: #008000; text-decoration-color: #008000\">│</span>\n",
       "<span style=\"color: #008000; text-decoration-color: #008000\">│</span>  <span style=\"color: #c0c0c0; text-decoration-color: #c0c0c0\">Name: </span><span style=\"color: #008000; text-decoration-color: #008000\">7ec4a1a9-d362-401a-b818-9499407b558f</span>                                                                     <span style=\"color: #008000; text-decoration-color: #008000\">│</span>\n",
       "<span style=\"color: #008000; text-decoration-color: #008000\">│</span>  <span style=\"color: #c0c0c0; text-decoration-color: #c0c0c0\">Agent: </span><span style=\"color: #008000; text-decoration-color: #008000\">Creative Writer</span>                                                                                         <span style=\"color: #008000; text-decoration-color: #008000\">│</span>\n",
       "<span style=\"color: #008000; text-decoration-color: #008000\">│</span>  <span style=\"color: #c0c0c0; text-decoration-color: #c0c0c0\">Tool Args: </span>                                                                                                    <span style=\"color: #008000; text-decoration-color: #008000\">│</span>\n",
       "<span style=\"color: #008000; text-decoration-color: #008000\">│</span>                                                                                                                 <span style=\"color: #008000; text-decoration-color: #008000\">│</span>\n",
       "<span style=\"color: #008000; text-decoration-color: #008000\">│</span>                                                                                                                 <span style=\"color: #008000; text-decoration-color: #008000\">│</span>\n",
       "<span style=\"color: #008000; text-decoration-color: #008000\">╰─────────────────────────────────────────────────────────────────────────────────────────────────────────────────╯</span>\n",
       "</pre>\n"
      ]
     },
     "metadata": {},
     "output_type": "display_data"
    },
    {
     "data": {
      "text/plain": [
       "\n"
      ],
      "text/html": [
       "<pre style=\"white-space:pre;overflow-x:auto;line-height:normal;font-family:Menlo,'DejaVu Sans Mono',consolas,'Courier New',monospace\">\n",
       "</pre>\n"
      ]
     },
     "metadata": {},
     "output_type": "display_data"
    },
    {
     "data": {
      "text/plain": [
       "\u001B[32m╭─\u001B[0m\u001B[32m───────────────────────────────────────────────\u001B[0m\u001B[32m Crew Completion \u001B[0m\u001B[32m───────────────────────────────────────────────\u001B[0m\u001B[32m─╮\u001B[0m\n",
       "\u001B[32m│\u001B[0m                                                                                                                 \u001B[32m│\u001B[0m\n",
       "\u001B[32m│\u001B[0m  \u001B[1;32mCrew Execution Completed\u001B[0m                                                                                       \u001B[32m│\u001B[0m\n",
       "\u001B[32m│\u001B[0m  \u001B[37mName: \u001B[0m\u001B[32mcrew\u001B[0m                                                                                                     \u001B[32m│\u001B[0m\n",
       "\u001B[32m│\u001B[0m  \u001B[37mID: \u001B[0m\u001B[32m11290b91-37e7-411f-a511-f6f637dca7ce\u001B[0m                                                                       \u001B[32m│\u001B[0m\n",
       "\u001B[32m│\u001B[0m  \u001B[37mTool Args: \u001B[0m                                                                                                    \u001B[32m│\u001B[0m\n",
       "\u001B[32m│\u001B[0m  \u001B[37mFinal Output: **The Road Ahead: Electric Vehicle Sales Surge Globally, Face Headwinds in the U.S.**\u001B[0m            \u001B[32m│\u001B[0m\n",
       "\u001B[32m│\u001B[0m                                                                                                                 \u001B[32m│\u001B[0m\n",
       "\u001B[32m│\u001B[0m  \u001B[37mGlobal electric car sales hit a record of 17 million in 2024, a 25% increase from 2023, exceeding total sales\u001B[0m  \u001B[32m│\u001B[0m\n",
       "\u001B[32m│\u001B[0m  \u001B[37min 2020 by 3.5 million vehicles. BloombergNEF projects nearly 22 million EV sales in 2025, a further 25% \u001B[0m      \u001B[32m│\u001B[0m\n",
       "\u001B[32m│\u001B[0m  \u001B[37mjump. However, in the U.S., while total EV sales in the first half of 2025 reached a record 607,089 (up 1.5% \u001B[0m  \u001B[32m│\u001B[0m\n",
       "\u001B[32m│\u001B[0m  \u001B[37myear-over-year), market share dipped to 9.6% in Q1 2025 from 10.9% in Q4 2024. Electric vehicles continue to \u001B[0m  \u001B[32m│\u001B[0m\n",
       "\u001B[32m│\u001B[0m  \u001B[37mdominate the luxury market, accounting for 23% of sales in Q1 2025, signaling continued strong interest in \u001B[0m    \u001B[32m│\u001B[0m\n",
       "\u001B[32m│\u001B[0m  \u001B[37mhigh-end EV models.\u001B[0m                                                                                            \u001B[32m│\u001B[0m\n",
       "\u001B[32m│\u001B[0m                                                                                                                 \u001B[32m│\u001B[0m\n",
       "\u001B[32m│\u001B[0m                                                                                                                 \u001B[32m│\u001B[0m\n",
       "\u001B[32m╰─────────────────────────────────────────────────────────────────────────────────────────────────────────────────╯\u001B[0m\n"
      ],
      "text/html": [
       "<pre style=\"white-space:pre;overflow-x:auto;line-height:normal;font-family:Menlo,'DejaVu Sans Mono',consolas,'Courier New',monospace\"><span style=\"color: #008000; text-decoration-color: #008000\">╭──────────────────────────────────────────────── Crew Completion ────────────────────────────────────────────────╮</span>\n",
       "<span style=\"color: #008000; text-decoration-color: #008000\">│</span>                                                                                                                 <span style=\"color: #008000; text-decoration-color: #008000\">│</span>\n",
       "<span style=\"color: #008000; text-decoration-color: #008000\">│</span>  <span style=\"color: #008000; text-decoration-color: #008000; font-weight: bold\">Crew Execution Completed</span>                                                                                       <span style=\"color: #008000; text-decoration-color: #008000\">│</span>\n",
       "<span style=\"color: #008000; text-decoration-color: #008000\">│</span>  <span style=\"color: #c0c0c0; text-decoration-color: #c0c0c0\">Name: </span><span style=\"color: #008000; text-decoration-color: #008000\">crew</span>                                                                                                     <span style=\"color: #008000; text-decoration-color: #008000\">│</span>\n",
       "<span style=\"color: #008000; text-decoration-color: #008000\">│</span>  <span style=\"color: #c0c0c0; text-decoration-color: #c0c0c0\">ID: </span><span style=\"color: #008000; text-decoration-color: #008000\">11290b91-37e7-411f-a511-f6f637dca7ce</span>                                                                       <span style=\"color: #008000; text-decoration-color: #008000\">│</span>\n",
       "<span style=\"color: #008000; text-decoration-color: #008000\">│</span>  <span style=\"color: #c0c0c0; text-decoration-color: #c0c0c0\">Tool Args: </span>                                                                                                    <span style=\"color: #008000; text-decoration-color: #008000\">│</span>\n",
       "<span style=\"color: #008000; text-decoration-color: #008000\">│</span>  <span style=\"color: #c0c0c0; text-decoration-color: #c0c0c0\">Final Output: **The Road Ahead: Electric Vehicle Sales Surge Globally, Face Headwinds in the U.S.**</span>            <span style=\"color: #008000; text-decoration-color: #008000\">│</span>\n",
       "<span style=\"color: #008000; text-decoration-color: #008000\">│</span>                                                                                                                 <span style=\"color: #008000; text-decoration-color: #008000\">│</span>\n",
       "<span style=\"color: #008000; text-decoration-color: #008000\">│</span>  <span style=\"color: #c0c0c0; text-decoration-color: #c0c0c0\">Global electric car sales hit a record of 17 million in 2024, a 25% increase from 2023, exceeding total sales</span>  <span style=\"color: #008000; text-decoration-color: #008000\">│</span>\n",
       "<span style=\"color: #008000; text-decoration-color: #008000\">│</span>  <span style=\"color: #c0c0c0; text-decoration-color: #c0c0c0\">in 2020 by 3.5 million vehicles. BloombergNEF projects nearly 22 million EV sales in 2025, a further 25% </span>      <span style=\"color: #008000; text-decoration-color: #008000\">│</span>\n",
       "<span style=\"color: #008000; text-decoration-color: #008000\">│</span>  <span style=\"color: #c0c0c0; text-decoration-color: #c0c0c0\">jump. However, in the U.S., while total EV sales in the first half of 2025 reached a record 607,089 (up 1.5% </span>  <span style=\"color: #008000; text-decoration-color: #008000\">│</span>\n",
       "<span style=\"color: #008000; text-decoration-color: #008000\">│</span>  <span style=\"color: #c0c0c0; text-decoration-color: #c0c0c0\">year-over-year), market share dipped to 9.6% in Q1 2025 from 10.9% in Q4 2024. Electric vehicles continue to </span>  <span style=\"color: #008000; text-decoration-color: #008000\">│</span>\n",
       "<span style=\"color: #008000; text-decoration-color: #008000\">│</span>  <span style=\"color: #c0c0c0; text-decoration-color: #c0c0c0\">dominate the luxury market, accounting for 23% of sales in Q1 2025, signaling continued strong interest in </span>    <span style=\"color: #008000; text-decoration-color: #008000\">│</span>\n",
       "<span style=\"color: #008000; text-decoration-color: #008000\">│</span>  <span style=\"color: #c0c0c0; text-decoration-color: #c0c0c0\">high-end EV models.</span>                                                                                            <span style=\"color: #008000; text-decoration-color: #008000\">│</span>\n",
       "<span style=\"color: #008000; text-decoration-color: #008000\">│</span>                                                                                                                 <span style=\"color: #008000; text-decoration-color: #008000\">│</span>\n",
       "<span style=\"color: #008000; text-decoration-color: #008000\">│</span>                                                                                                                 <span style=\"color: #008000; text-decoration-color: #008000\">│</span>\n",
       "<span style=\"color: #008000; text-decoration-color: #008000\">╰─────────────────────────────────────────────────────────────────────────────────────────────────────────────────╯</span>\n",
       "</pre>\n"
      ]
     },
     "metadata": {},
     "output_type": "display_data"
    },
    {
     "data": {
      "text/plain": [
       "\n"
      ],
      "text/html": [
       "<pre style=\"white-space:pre;overflow-x:auto;line-height:normal;font-family:Menlo,'DejaVu Sans Mono',consolas,'Courier New',monospace\">\n",
       "</pre>\n"
      ]
     },
     "metadata": {},
     "output_type": "display_data"
    },
    {
     "data": {
      "text/plain": [
       "CrewOutput(raw='**The Road Ahead: Electric Vehicle Sales Surge Globally, Face Headwinds in the U.S.**\\n\\nGlobal electric car sales hit a record of 17 million in 2024, a 25% increase from 2023, exceeding total sales in 2020 by 3.5 million vehicles. BloombergNEF projects nearly 22 million EV sales in 2025, a further 25% jump. However, in the U.S., while total EV sales in the first half of 2025 reached a record 607,089 (up 1.5% year-over-year), market share dipped to 9.6% in Q1 2025 from 10.9% in Q4 2024. Electric vehicles continue to dominate the luxury market, accounting for 23% of sales in Q1 2025, signaling continued strong interest in high-end EV models.', pydantic=None, json_dict=None, tasks_output=[TaskOutput(description='Find 3-5 interesting and recent facts about The future of electrical vehicles.', name=None, expected_output='A bullet list of 3-5 facts', summary='Find 3-5 interesting and recent facts about The future of...', raw='*   Electric car sales topped 17 million worldwide in 2024, rising by more than 25% compared to 2023. The additional 3.5 million cars sold in 2024 compared to 2023 outnumber total electric car sales in the whole of 2020.\\n*   BloombergNEF expects nearly 22 million battery electric and plug-in hybrid vehicle sales in 2025, up 25% from 2024.\\n*   EVs represented 9.6 percent of new light-duty vehicle sales in the U.S. in Q1 2025, down from 10.9 percent in Q4 2024.\\n*   Total EV sales through the first half of 2025 set a record at 607,089, representing a 1.5% year-over-year increase.\\n*   Electric vehicles accounted for 23% of total luxury sales in the first quarter of 2025.', pydantic=None, json_dict=None, agent='Research Specialist', output_format=<OutputFormat.RAW: 'raw'>), TaskOutput(description='Write a 100-word blog post summary about The future of electrical vehicles using the facts from the research.', name=None, expected_output='A blog post summary', summary='Write a 100-word blog post summary about The future of...', raw='**The Road Ahead: Electric Vehicle Sales Surge Globally, Face Headwinds in the U.S.**\\n\\nGlobal electric car sales hit a record of 17 million in 2024, a 25% increase from 2023, exceeding total sales in 2020 by 3.5 million vehicles. BloombergNEF projects nearly 22 million EV sales in 2025, a further 25% jump. However, in the U.S., while total EV sales in the first half of 2025 reached a record 607,089 (up 1.5% year-over-year), market share dipped to 9.6% in Q1 2025 from 10.9% in Q4 2024. Electric vehicles continue to dominate the luxury market, accounting for 23% of sales in Q1 2025, signaling continued strong interest in high-end EV models.', pydantic=None, json_dict=None, agent='Creative Writer', output_format=<OutputFormat.RAW: 'raw'>)], token_usage=UsageMetrics(total_tokens=7060, prompt_tokens=6413, cached_prompt_tokens=0, completion_tokens=647, successful_requests=4))"
      ]
     },
     "execution_count": 7,
     "metadata": {},
     "output_type": "execute_result"
    }
   ],
   "execution_count": 7
  }
 ],
 "metadata": {},
 "nbformat": 4,
 "nbformat_minor": 5
}
